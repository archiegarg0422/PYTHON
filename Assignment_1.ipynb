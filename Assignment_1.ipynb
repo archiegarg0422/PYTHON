{
  "nbformat": 4,
  "nbformat_minor": 0,
  "metadata": {
    "colab": {
      "provenance": [],
      "authorship_tag": "ABX9TyOBnTGTuUF63wcUa+ckP75a",
      "include_colab_link": true
    },
    "kernelspec": {
      "name": "python3",
      "display_name": "Python 3"
    },
    "language_info": {
      "name": "python"
    }
  },
  "cells": [
    {
      "cell_type": "markdown",
      "metadata": {
        "id": "view-in-github",
        "colab_type": "text"
      },
      "source": [
        "<a href=\"https://colab.research.google.com/github/archiegarg0422/PYTHON/blob/main/Assignment_1.ipynb\" target=\"_parent\"><img src=\"https://colab.research.google.com/assets/colab-badge.svg\" alt=\"Open In Colab\"/></a>"
      ]
    },
    {
      "cell_type": "code",
      "execution_count": null,
      "metadata": {
        "colab": {
          "base_uri": "https://localhost:8080/"
        },
        "id": "d_pD2dAIh9Ob",
        "outputId": "251e7939-0870-4d17-ec8d-41c71d53b963"
      },
      "outputs": [
        {
          "output_type": "stream",
          "name": "stdout",
          "text": [
            "hello world\n"
          ]
        }
      ],
      "source": [
        "print(\"hello world\")"
      ]
    },
    {
      "cell_type": "code",
      "source": [
        "a=int(input(\"enter first number\"))\n",
        "b=int(input(\"enter second number\"))\n",
        "c=int(input(\"enter third number\"))\n",
        "print(int(a+b+c)/3)\n"
      ],
      "metadata": {
        "id": "pi_DdpHqiYPa",
        "colab": {
          "base_uri": "https://localhost:8080/"
        },
        "outputId": "3c9c51c1-8c01-4375-dfad-1b35634d96d7"
      },
      "execution_count": null,
      "outputs": [
        {
          "output_type": "stream",
          "name": "stdout",
          "text": [
            "enter first number20\n",
            "enter second number20\n",
            "enter third number20\n",
            "20.0\n"
          ]
        }
      ]
    },
    {
      "cell_type": "code",
      "source": [
        "a=int(input(\"enter your gross income\"))\n",
        "b=int(input(\"enter number of dependents\"))\n",
        "c= a-10000-(3000*b)\n",
        "print(\"taxable income is\",c)\n",
        "d=c*(20/100)\n",
        "print(\"tax is\",d)"
      ],
      "metadata": {
        "colab": {
          "base_uri": "https://localhost:8080/"
        },
        "id": "UVxzhTiVZdmh",
        "outputId": "ccda74ca-c5c0-4b3c-b2fd-97e1c6345ba1"
      },
      "execution_count": null,
      "outputs": [
        {
          "output_type": "stream",
          "name": "stdout",
          "text": [
            "enter your gross income2000000\n",
            "enter number of dependents4\n",
            "taxable income is 1978000\n",
            "tax is 395600.0\n"
          ]
        }
      ]
    },
    {
      "cell_type": "code",
      "source": [
        "a=int(input(\"enter number of seconds\"))\n",
        "if(a<60):\n",
        "  print(\"number of seconds\",a)\n",
        "else:\n",
        "  m=a//60\n",
        "  s=a%60\n",
        "  print(\"minutes\",m,\"seconds\",s)\n",
        "    "
      ],
      "metadata": {
        "colab": {
          "base_uri": "https://localhost:8080/"
        },
        "id": "p2GZ5lpqaORr",
        "outputId": "84eb5870-ea82-4eea-80af-b244e351b899"
      },
      "execution_count": null,
      "outputs": [
        {
          "output_type": "stream",
          "name": "stdout",
          "text": [
            "enter number of seconds200\n",
            "minutes 3 seconds 20\n"
          ]
        }
      ]
    },
    {
      "cell_type": "code",
      "source": [
        "a=25\n",
        "b=25\n",
        "c=25.0\n",
        "print(str(a+b+c))\n"
      ],
      "metadata": {
        "colab": {
          "base_uri": "https://localhost:8080/"
        },
        "id": "s5KqFtFtbASp",
        "outputId": "bcbc674a-22d4-43f6-b716-dae0742dc8c1"
      },
      "execution_count": null,
      "outputs": [
        {
          "output_type": "stream",
          "name": "stdout",
          "text": [
            "75.0\n"
          ]
        }
      ]
    },
    {
      "cell_type": "code",
      "source": [
        "import math\n",
        "a=0\n",
        "while(a<=345):\n",
        "  print(math.sin(math.radians(a)),math.cos(math.radians(a)))\n",
        "  a=a+15\n",
        "  "
      ],
      "metadata": {
        "colab": {
          "base_uri": "https://localhost:8080/"
        },
        "id": "j8hhaQ7tbMAU",
        "outputId": "0a756bcb-937d-4ea7-fa26-dc46f4e6ee5c"
      },
      "execution_count": null,
      "outputs": [
        {
          "output_type": "stream",
          "name": "stdout",
          "text": [
            "0.0 1.0\n",
            "0.25881904510252074 0.9659258262890683\n",
            "0.49999999999999994 0.8660254037844387\n",
            "0.7071067811865475 0.7071067811865476\n",
            "0.8660254037844386 0.5000000000000001\n",
            "0.9659258262890683 0.25881904510252074\n",
            "1.0 6.123233995736766e-17\n",
            "0.9659258262890683 -0.25881904510252085\n",
            "0.8660254037844387 -0.4999999999999998\n",
            "0.7071067811865476 -0.7071067811865475\n",
            "0.49999999999999994 -0.8660254037844387\n",
            "0.258819045102521 -0.9659258262890682\n",
            "1.2246467991473532e-16 -1.0\n",
            "-0.2588190451025208 -0.9659258262890683\n",
            "-0.5000000000000001 -0.8660254037844386\n",
            "-0.7071067811865475 -0.7071067811865477\n",
            "-0.8660254037844384 -0.5000000000000004\n",
            "-0.9659258262890683 -0.25881904510252063\n",
            "-1.0 -1.8369701987210297e-16\n",
            "-0.9659258262890684 0.2588190451025203\n",
            "-0.8660254037844386 0.5000000000000001\n",
            "-0.7071067811865477 0.7071067811865474\n",
            "-0.5000000000000004 0.8660254037844384\n",
            "-0.2588190451025207 0.9659258262890683\n"
          ]
        }
      ]
    }
  ]
}