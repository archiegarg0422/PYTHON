{
  "nbformat": 4,
  "nbformat_minor": 0,
  "metadata": {
    "colab": {
      "provenance": [],
      "authorship_tag": "ABX9TyNa7n0hxrcftKORrjuSwwo9",
      "include_colab_link": true
    },
    "kernelspec": {
      "name": "python3",
      "display_name": "Python 3"
    },
    "language_info": {
      "name": "python"
    }
  },
  "cells": [
    {
      "cell_type": "markdown",
      "metadata": {
        "id": "view-in-github",
        "colab_type": "text"
      },
      "source": [
        "<a href=\"https://colab.research.google.com/github/archiegarg0422/PYTHON/blob/main/Assignment_2.ipynb\" target=\"_parent\"><img src=\"https://colab.research.google.com/assets/colab-badge.svg\" alt=\"Open In Colab\"/></a>"
      ]
    },
    {
      "cell_type": "code",
      "source": [
        "def reverse(string):\n",
        "  string = string[::-1]\n",
        "  return string\n",
        "\n",
        "s = \"Python is a case sensitive language.\"\n",
        "\n",
        "print(len(s))\n",
        "print(reverse(s))\n",
        "\n",
        "slice_obj = slice(10,26)\n",
        "print(s[slice_obj])\n",
        "\n",
        "snew = s.replace(\"a case sensitive\", \"object oriented\")\n",
        "print(snew)\n",
        "\n",
        "\n",
        "\n",
        "\n",
        "\n"
      ],
      "metadata": {
        "colab": {
          "base_uri": "https://localhost:8080/"
        },
        "id": "gdwmqCqAHqT0",
        "outputId": "a066cf42-f750-4e21-8c1a-2f3d5d734c04"
      },
      "execution_count": null,
      "outputs": [
        {
          "output_type": "stream",
          "name": "stdout",
          "text": [
            "36\n",
            ".egaugnal evitisnes esac a si nohtyP\n",
            "a case sensitive\n",
            "Python is object oriented language.\n"
          ]
        }
      ]
    },
    {
      "cell_type": "code",
      "source": [
        "a=(input(\"enter your name\"))\n",
        "b=int(input(\"Enter your SID\"))\n",
        "c=str(input(\"enter your branch\"))\n",
        "print(\"Hey\",a,\"Here!\")\n",
        "print(\"My SID is\",b)\n",
        "print(\"I am from\",c,(\"departmant and my CGPA is 9.9\"))\n",
        "\n",
        "\n",
        "\n"
      ],
      "metadata": {
        "colab": {
          "base_uri": "https://localhost:8080/",
          "height": 287
        },
        "id": "7UkwMUHFJdUy",
        "outputId": "bb30bfed-e789-4d9b-ae00-70cc938194e8"
      },
      "execution_count": null,
      "outputs": [
        {
          "name": "stdout",
          "output_type": "stream",
          "text": [
            "enter your namegyj\n",
            "Enter your SID4\n",
            "enter your branchk\n"
          ]
        },
        {
          "output_type": "error",
          "ename": "TypeError",
          "evalue": "ignored",
          "traceback": [
            "\u001b[0;31m---------------------------------------------------------------------------\u001b[0m",
            "\u001b[0;31mTypeError\u001b[0m                                 Traceback (most recent call last)",
            "\u001b[0;32m<ipython-input-36-bf602c6ae30a>\u001b[0m in \u001b[0;36m<module>\u001b[0;34m\u001b[0m\n\u001b[1;32m      1\u001b[0m \u001b[0ma\u001b[0m\u001b[0;34m=\u001b[0m\u001b[0;34m(\u001b[0m\u001b[0minput\u001b[0m\u001b[0;34m(\u001b[0m\u001b[0;34m\"enter your name\"\u001b[0m\u001b[0;34m)\u001b[0m\u001b[0;34m)\u001b[0m\u001b[0;34m\u001b[0m\u001b[0;34m\u001b[0m\u001b[0m\n\u001b[1;32m      2\u001b[0m \u001b[0mb\u001b[0m\u001b[0;34m=\u001b[0m\u001b[0mint\u001b[0m\u001b[0;34m(\u001b[0m\u001b[0minput\u001b[0m\u001b[0;34m(\u001b[0m\u001b[0;34m\"Enter your SID\"\u001b[0m\u001b[0;34m)\u001b[0m\u001b[0;34m)\u001b[0m\u001b[0;34m\u001b[0m\u001b[0;34m\u001b[0m\u001b[0m\n\u001b[0;32m----> 3\u001b[0;31m \u001b[0mc\u001b[0m\u001b[0;34m=\u001b[0m\u001b[0mstr\u001b[0m\u001b[0;34m(\u001b[0m\u001b[0minput\u001b[0m\u001b[0;34m(\u001b[0m\u001b[0;34m\"enter your branch\"\u001b[0m\u001b[0;34m)\u001b[0m\u001b[0;34m)\u001b[0m\u001b[0;34m\u001b[0m\u001b[0;34m\u001b[0m\u001b[0m\n\u001b[0m\u001b[1;32m      4\u001b[0m \u001b[0mprint\u001b[0m\u001b[0;34m(\u001b[0m\u001b[0;34m\"Hey\"\u001b[0m\u001b[0;34m,\u001b[0m\u001b[0ma\u001b[0m\u001b[0;34m,\u001b[0m\u001b[0;34m\"Here!\"\u001b[0m\u001b[0;34m)\u001b[0m\u001b[0;34m\u001b[0m\u001b[0;34m\u001b[0m\u001b[0m\n\u001b[1;32m      5\u001b[0m \u001b[0mprint\u001b[0m\u001b[0;34m(\u001b[0m\u001b[0;34m\"My SID is\"\u001b[0m\u001b[0;34m,\u001b[0m\u001b[0mb\u001b[0m\u001b[0;34m)\u001b[0m\u001b[0;34m\u001b[0m\u001b[0;34m\u001b[0m\u001b[0m\n",
            "\u001b[0;31mTypeError\u001b[0m: 'str' object is not callable"
          ]
        }
      ]
    },
    {
      "cell_type": "code",
      "source": [
        "a=56\n",
        "b=10\n",
        "print(\"a & b =\", a & b)\n",
        "print(\"a / b =\", a / b)\n",
        "print(\"a ^ b\", a ^ b)\n",
        "print(\"after shifting a by 2 bits left =\", a<<2)\n",
        "print(\"after shifting b by 2 bits left=\", b<<2)\n",
        "print(\"after shifting a by 2 bits right=\", a>>2)\n",
        "print(\"after shifting b by 4 bits right=\", b>>4)\n"
      ],
      "metadata": {
        "colab": {
          "base_uri": "https://localhost:8080/"
        },
        "id": "KvSdCx9TOVtl",
        "outputId": "efc92de7-d086-4923-cbe5-434a5b037f36"
      },
      "execution_count": null,
      "outputs": [
        {
          "output_type": "stream",
          "name": "stdout",
          "text": [
            "a & b = 8\n",
            "a / b = 5.6\n",
            "a ^ b 50\n",
            "after shifting a by 2 bits left = 224\n",
            "after shifting b by 2 bits left= 40\n",
            "after shifting a by 2 bits right= 14\n",
            "after shifting b by 4 bits right= 0\n"
          ]
        }
      ]
    },
    {
      "cell_type": "code",
      "source": [
        "a= int(input(\"Enter first number\"))\n",
        "b= int(input(\"Enter second number\"))\n",
        "c= int(input(\"Enter third number\"))\n",
        "if (a>=b) and (a>c):\n",
        "   print(\"The greatest number is \",a)\n",
        "elif (b>=c) and (b>a):\n",
        "    print(\"The greatest number is \",b)\n",
        "elif (a==b==c):\n",
        "    print(\"all numbers are equal.\")\n",
        "else :\n",
        "   print(\"The greatest number is \",c)         \n"
      ],
      "metadata": {
        "colab": {
          "base_uri": "https://localhost:8080/"
        },
        "id": "V78TipeHSsi8",
        "outputId": "b6a2c3f1-e4ca-4c6c-ad04-c4e218ee221e"
      },
      "execution_count": null,
      "outputs": [
        {
          "output_type": "stream",
          "name": "stdout",
          "text": [
            "Enter first number5\n",
            "Enter second number5\n",
            "Enter third number5\n",
            "all numbers are equal.\n"
          ]
        }
      ]
    },
    {
      "cell_type": "code",
      "source": [
        "a= str(input(\"Enter your sentence.\"))\n",
        "b= \"name\"\n",
        "if b in a :\n",
        "  print(\"Yes\")\n",
        "else:\n",
        "  print(\"No\")  "
      ],
      "metadata": {
        "colab": {
          "base_uri": "https://localhost:8080/",
          "height": 252
        },
        "id": "fuqh1mlhUjtn",
        "outputId": "98be193f-2e5d-4aa9-c886-a0f538c1375e"
      },
      "execution_count": null,
      "outputs": [
        {
          "name": "stdout",
          "output_type": "stream",
          "text": [
            "Enter your sentence.name is a\n"
          ]
        },
        {
          "output_type": "error",
          "ename": "TypeError",
          "evalue": "ignored",
          "traceback": [
            "\u001b[0;31m---------------------------------------------------------------------------\u001b[0m",
            "\u001b[0;31mTypeError\u001b[0m                                 Traceback (most recent call last)",
            "\u001b[0;32m<ipython-input-35-cf0a16faf47d>\u001b[0m in \u001b[0;36m<module>\u001b[0;34m\u001b[0m\n\u001b[0;32m----> 1\u001b[0;31m \u001b[0ma\u001b[0m\u001b[0;34m=\u001b[0m \u001b[0mstr\u001b[0m\u001b[0;34m(\u001b[0m\u001b[0minput\u001b[0m\u001b[0;34m(\u001b[0m\u001b[0;34m\"Enter your sentence.\"\u001b[0m\u001b[0;34m)\u001b[0m\u001b[0;34m)\u001b[0m\u001b[0;34m\u001b[0m\u001b[0;34m\u001b[0m\u001b[0m\n\u001b[0m\u001b[1;32m      2\u001b[0m \u001b[0mb\u001b[0m\u001b[0;34m=\u001b[0m \u001b[0;34m\"name\"\u001b[0m\u001b[0;34m\u001b[0m\u001b[0;34m\u001b[0m\u001b[0m\n\u001b[1;32m      3\u001b[0m \u001b[0;32mif\u001b[0m \u001b[0mb\u001b[0m \u001b[0;32min\u001b[0m \u001b[0ma\u001b[0m \u001b[0;34m:\u001b[0m\u001b[0;34m\u001b[0m\u001b[0;34m\u001b[0m\u001b[0m\n\u001b[1;32m      4\u001b[0m   \u001b[0mprint\u001b[0m\u001b[0;34m(\u001b[0m\u001b[0;34m\"Yes\"\u001b[0m\u001b[0;34m)\u001b[0m\u001b[0;34m\u001b[0m\u001b[0;34m\u001b[0m\u001b[0m\n\u001b[1;32m      5\u001b[0m \u001b[0;32melse\u001b[0m\u001b[0;34m:\u001b[0m\u001b[0;34m\u001b[0m\u001b[0;34m\u001b[0m\u001b[0m\n",
            "\u001b[0;31mTypeError\u001b[0m: 'str' object is not callable"
          ]
        }
      ]
    },
    {
      "cell_type": "code",
      "source": [
        "a=int(input(\"Enter First length\"))\n",
        "b=int(input(\"Enter second length\"))\n",
        "c= int(input(\"Enter third length\"))\n",
        "if ((a+b)>c) or ((b+c)>a) or ((a+c)>b):\n",
        "  print"
      ],
      "metadata": {
        "id": "8O6IO-VvYUiv"
      },
      "execution_count": null,
      "outputs": []
    }
  ]
}