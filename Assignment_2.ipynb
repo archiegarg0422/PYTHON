{
  "nbformat": 4,
  "nbformat_minor": 0,
  "metadata": {
    "colab": {
      "provenance": [],
      "authorship_tag": "ABX9TyNG5UODm3UDMLMmdR6L6DTE",
      "include_colab_link": true
    },
    "kernelspec": {
      "name": "python3",
      "display_name": "Python 3"
    },
    "language_info": {
      "name": "python"
    }
  },
  "cells": [
    {
      "cell_type": "markdown",
      "metadata": {
        "id": "view-in-github",
        "colab_type": "text"
      },
      "source": [
        "<a href=\"https://colab.research.google.com/github/archiegarg0422/PYTHON/blob/main/Assignment_2.ipynb\" target=\"_parent\"><img src=\"https://colab.research.google.com/assets/colab-badge.svg\" alt=\"Open In Colab\"/></a>"
      ]
    },
    {
      "cell_type": "code",
      "source": [
        "s = \"Python is a case sensitive language.\"\n",
        "\n",
        "print(\"Length of string is\", len(s))\n",
        "\n",
        "print(s[::-1])\n",
        "\n",
        "a=s[10:26:1]\n",
        "print (a)\n",
        "\n",
        "snew = s.replace(\"a case sensitive\", \"object oriented\")\n",
        "print(snew)\n",
        "\n",
        "print(s.index(\"s\"))\n",
        "\n",
        "print(s.replace(\" \",\"\"))\n"
      ],
      "metadata": {
        "colab": {
          "base_uri": "https://localhost:8080/"
        },
        "id": "gdwmqCqAHqT0",
        "outputId": "5e14bf9f-d1c3-407c-d2db-ef3baeb8e023"
      },
      "execution_count": null,
      "outputs": [
        {
          "output_type": "stream",
          "name": "stdout",
          "text": [
            "Length of string is 36\n",
            ".egaugnal evitisnes esac a si nohtyP\n",
            "a case sensitive\n",
            "Python is object oriented language.\n",
            "8\n",
            "Pythonisacasesensitivelanguage.\n"
          ]
        }
      ]
    },
    {
      "cell_type": "code",
      "source": [
        "a=(input(\"enter your name:\"))\n",
        "b=int(input(\"Enter your SID:\"))\n",
        "c=(input(\"enter your branch:\"))\n",
        "d=int(input(\"Enter your CGPA:\"))\n",
        "print(\"Hey\",a,\"Here!\")\n",
        "print(\"My SID is\",b)\n",
        "print(\"I am from\",c,(\"departmant and my CGPA is \"),d )\n",
        "\n",
        "\n",
        "\n"
      ],
      "metadata": {
        "colab": {
          "base_uri": "https://localhost:8080/"
        },
        "id": "7UkwMUHFJdUy",
        "outputId": "89542317-56fe-4da2-a430-866704251a48"
      },
      "execution_count": null,
      "outputs": [
        {
          "output_type": "stream",
          "name": "stdout",
          "text": [
            "enter your name:archie\n",
            "Enter your SID:22104008\n",
            "enter your branch:electrical\n",
            "Enter your CGPA:10\n",
            "Hey archie Here!\n",
            "My SID is 22104008\n",
            "I am from electrical departmant and my CGPA is  10\n"
          ]
        }
      ]
    },
    {
      "cell_type": "code",
      "source": [
        "a=56\n",
        "b=10\n",
        "print(\"a & b =\", a & b)\n",
        "print(\"a / b =\", a / b)\n",
        "print(\"a ^ b\", a ^ b)\n",
        "print(\"after shifting a by 2 bits left =\", a<<2)\n",
        "print(\"after shifting b by 2 bits left=\", b<<2)\n",
        "print(\"after shifting a by 2 bits right=\", a>>2)\n",
        "print(\"after shifting b by 4 bits right=\", b>>4)\n"
      ],
      "metadata": {
        "colab": {
          "base_uri": "https://localhost:8080/"
        },
        "id": "KvSdCx9TOVtl",
        "outputId": "efc92de7-d086-4923-cbe5-434a5b037f36"
      },
      "execution_count": null,
      "outputs": [
        {
          "output_type": "stream",
          "name": "stdout",
          "text": [
            "a & b = 8\n",
            "a / b = 5.6\n",
            "a ^ b 50\n",
            "after shifting a by 2 bits left = 224\n",
            "after shifting b by 2 bits left= 40\n",
            "after shifting a by 2 bits right= 14\n",
            "after shifting b by 4 bits right= 0\n"
          ]
        }
      ]
    },
    {
      "cell_type": "code",
      "source": [
        "a= int(input(\"Enter first number\"))\n",
        "b= int(input(\"Enter second number\"))\n",
        "c= int(input(\"Enter third number\"))\n",
        "if (a>=b) and (a>c):\n",
        "   print(\"The greatest number is \",a)\n",
        "elif (b>=c) and (b>a):\n",
        "    print(\"The greatest number is \",b)\n",
        "elif (a==b==c):\n",
        "    print(\"all numbers are equal.\")\n",
        "else :\n",
        "   print(\"The greatest number is \",c)         \n"
      ],
      "metadata": {
        "colab": {
          "base_uri": "https://localhost:8080/"
        },
        "id": "V78TipeHSsi8",
        "outputId": "b6a2c3f1-e4ca-4c6c-ad04-c4e218ee221e"
      },
      "execution_count": null,
      "outputs": [
        {
          "output_type": "stream",
          "name": "stdout",
          "text": [
            "Enter first number5\n",
            "Enter second number5\n",
            "Enter third number5\n",
            "all numbers are equal.\n"
          ]
        }
      ]
    },
    {
      "cell_type": "code",
      "source": [
        "a= (input(\"Enter your sentence.\"))\n",
        "b= \"name\"\n",
        "if b in a :\n",
        "  print(\"Yes\")\n",
        "else:\n",
        "  print(\"No\")  "
      ],
      "metadata": {
        "colab": {
          "base_uri": "https://localhost:8080/"
        },
        "id": "fuqh1mlhUjtn",
        "outputId": "709790a8-8fc8-46e5-86eb-e3f69b29e565"
      },
      "execution_count": null,
      "outputs": [
        {
          "output_type": "stream",
          "name": "stdout",
          "text": [
            "Enter your sentence.not there\n",
            "No\n"
          ]
        }
      ]
    },
    {
      "cell_type": "code",
      "source": [
        "a=int(input(\"Enter First length\"))\n",
        "b=int(input(\"Enter second length\"))\n",
        "c= int(input(\"Enter third length\"))\n",
        "if ((a+b)>c) or ((b+c)>a) or ((a+c)>b):\n",
        "  print"
      ],
      "metadata": {
        "id": "8O6IO-VvYUiv"
      },
      "execution_count": null,
      "outputs": []
    }
  ]
}