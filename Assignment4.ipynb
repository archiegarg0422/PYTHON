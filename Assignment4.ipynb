{
  "nbformat": 4,
  "nbformat_minor": 0,
  "metadata": {
    "colab": {
      "provenance": [],
      "authorship_tag": "ABX9TyMtoVa2u4CQC0Tx+QrfvGLl",
      "include_colab_link": true
    },
    "kernelspec": {
      "name": "python3",
      "display_name": "Python 3"
    },
    "language_info": {
      "name": "python"
    }
  },
  "cells": [
    {
      "cell_type": "markdown",
      "metadata": {
        "id": "view-in-github",
        "colab_type": "text"
      },
      "source": [
        "<a href=\"https://colab.research.google.com/github/archiegarg0422/PYTHON/blob/main/Assignment4.ipynb\" target=\"_parent\"><img src=\"https://colab.research.google.com/assets/colab-badge.svg\" alt=\"Open In Colab\"/></a>"
      ]
    },
    {
      "cell_type": "code",
      "execution_count": null,
      "metadata": {
        "colab": {
          "base_uri": "https://localhost:8080/"
        },
        "id": "r51ca9h0LztR",
        "outputId": "d6eca2aa-55b7-4eca-b100-5cda7ab3c807"
      },
      "outputs": [
        {
          "output_type": "stream",
          "name": "stdout",
          "text": [
            "Enter your marks:50\n",
            "Grade C\n"
          ]
        }
      ],
      "source": [
        "a= int (input(\"Enter your marks:\"))\n",
        "if a < 25:\n",
        "  print(\"Grade F\")\n",
        "elif a >= 25 and a< 45:\n",
        "  print (\"Grade E\")\n",
        "elif a >= 45 and a< 50:\n",
        "  print(\"Grade D\")\n",
        "elif a >=50 and a< 60:\n",
        "  print (\"Grade C\")\n",
        "elif a>=60 and a< 80:\n",
        "  print(\"Grade B\")\n",
        "else:\n",
        "  print(\"Grade A\")     \n",
        "  "
      ]
    },
    {
      "cell_type": "code",
      "source": [
        "a = int(input(\"Enter a year:\"))\n",
        "if (a % 400) == 0:\n",
        "  print(a,\" is a leap year.\")\n",
        "elif (a% 100) ==0:\n",
        "  print(a,\"is  a not leap year.\")\n",
        "elif (a%4) ==0:\n",
        "  print(a,\"is a leap year.\")\n",
        "else:\n",
        "  print(a,\" is not a leap year.\")  \n"
      ],
      "metadata": {
        "colab": {
          "base_uri": "https://localhost:8080/"
        },
        "id": "GO8QNb7gOTOY",
        "outputId": "ca829e41-e2b5-4ea7-b36a-2c255c716869"
      },
      "execution_count": null,
      "outputs": [
        {
          "output_type": "stream",
          "name": "stdout",
          "text": [
            "Enter a year:1500\n",
            "1500 is  a not leap year.\n"
          ]
        }
      ]
    },
    {
      "cell_type": "code",
      "source": [
        "import random\n",
        "\n",
        "for i in range(10):\n",
        "  x = random.randint(1,9)\n",
        "  y = random.randint(1,9)\n",
        "  Question = f\"what is {x} * {y}?\"\n",
        "  Answer = int(input(Question))\n",
        "  if Answer == x*y:\n",
        "    print(\"Right!\")\n",
        "  else:\n",
        "    print(f\"wrong. The correct answer is {x*y}\" )  \n"
      ],
      "metadata": {
        "colab": {
          "base_uri": "https://localhost:8080/"
        },
        "id": "EZ8ja0taQKtm",
        "outputId": "270d68d1-2535-42f5-a886-a214a88d6c09"
      },
      "execution_count": null,
      "outputs": [
        {
          "output_type": "stream",
          "name": "stdout",
          "text": [
            "what is 6 * 6?63\n",
            "wrong. The correct answer is 36\n",
            "what is 7 * 1?7\n",
            "Right!\n",
            "what is 2 * 8?16\n",
            "Right!\n",
            "what is 3 * 6?18\n",
            "Right!\n",
            "what is 1 * 6?6\n",
            "Right!\n",
            "what is 9 * 6?98\n",
            "wrong. The correct answer is 54\n",
            "what is 5 * 8?54\n",
            "wrong. The correct answer is 40\n",
            "what is 6 * 9?54\n",
            "Right!\n",
            "what is 3 * 8?24\n",
            "Right!\n",
            "what is 7 * 6?42\n",
            "Right!\n"
          ]
        }
      ]
    },
    {
      "cell_type": "code",
      "source": [
        "for i in range (200):\n",
        "  if i % 5 ==2 and i % 6 ==3 and i % 7 ==2:\n",
        "    print(\"There are\",i,\"pieces in the bowl\"),\n",
        "    break\n",
        " \n"
      ],
      "metadata": {
        "colab": {
          "base_uri": "https://localhost:8080/"
        },
        "id": "kQ8pd3rZS6Zz",
        "outputId": "7a8d7ec8-17e7-4632-fe16-50b1c7af4312"
      },
      "execution_count": null,
      "outputs": [
        {
          "output_type": "stream",
          "name": "stdout",
          "text": [
            "There are 177 pieces in the bowl\n"
          ]
        }
      ]
    }
  ]
}