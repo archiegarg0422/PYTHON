{
  "nbformat": 4,
  "nbformat_minor": 0,
  "metadata": {
    "colab": {
      "provenance": [],
      "authorship_tag": "ABX9TyOfTIV1oxzXPkgs/YvryaIH",
      "include_colab_link": true
    },
    "kernelspec": {
      "name": "python3",
      "display_name": "Python 3"
    },
    "language_info": {
      "name": "python"
    }
  },
  "cells": [
    {
      "cell_type": "markdown",
      "metadata": {
        "id": "view-in-github",
        "colab_type": "text"
      },
      "source": [
        "<a href=\"https://colab.research.google.com/github/archiegarg0422/PYTHON/blob/main/Untitled5.ipynb\" target=\"_parent\"><img src=\"https://colab.research.google.com/assets/colab-badge.svg\" alt=\"Open In Colab\"/></a>"
      ]
    },
    {
      "cell_type": "code",
      "execution_count": null,
      "metadata": {
        "colab": {
          "base_uri": "https://localhost:8080/"
        },
        "id": "hbFN_qkWO4l8",
        "outputId": "111265e0-898a-4c7b-e0cd-7306dc0091f1"
      },
      "outputs": [
        {
          "output_type": "stream",
          "name": "stdout",
          "text": [
            "Enter a number:6\n",
            "True\n"
          ]
        }
      ],
      "source": [
        "def perfect(n):\n",
        "  divisors_sum = 0\n",
        "  for i in range (1,n):\n",
        "    if n %i == 0:\n",
        "      divisors_sum += i\n",
        "  return divisors_sum == n\n",
        "\n",
        "n = (int(input(\"Enter a number:\")))\n",
        "print(perfect(n))  \n"
      ]
    },
    {
      "cell_type": "code",
      "source": [
        "def palindrome(string):\n",
        "  return string ==string[ ::-1]\n",
        "\n",
        "s = (input(\"Enter a word:\"))\n",
        "print(palindrome(s))  "
      ],
      "metadata": {
        "colab": {
          "base_uri": "https://localhost:8080/"
        },
        "id": "SNdAncBqREBT",
        "outputId": "9d5ae98a-986f-438f-da88-e92d4e5c9ec6"
      },
      "execution_count": null,
      "outputs": [
        {
          "output_type": "stream",
          "name": "stdout",
          "text": [
            "Enter a word:malayalam\n",
            "True\n"
          ]
        }
      ]
    },
    {
      "cell_type": "code",
      "source": [
        "def pascal_triangle(n):\n",
        "  for i in range(n):\n",
        "    row =[1]\n",
        "    for j in range(1, i +1):\n",
        "      row.append(row[j-1]*(i-j+1)//j)\n",
        "    print(row)  \n",
        "\n",
        "n = (int(input(\"Enter the number of rows:\")))\n",
        "print (pascal_triangle(n))    "
      ],
      "metadata": {
        "colab": {
          "base_uri": "https://localhost:8080/"
        },
        "id": "qs56njFURgin",
        "outputId": "15206990-470b-4b6a-ad99-f784138e62de"
      },
      "execution_count": null,
      "outputs": [
        {
          "output_type": "stream",
          "name": "stdout",
          "text": [
            "Enter the number of rows:5\n",
            "[1]\n",
            "[1, 1]\n",
            "[1, 2, 1]\n",
            "[1, 3, 3, 1]\n",
            "[1, 4, 6, 4, 1]\n",
            "None\n"
          ]
        }
      ]
    },
    {
      "cell_type": "code",
      "source": [
        "import string\n",
        "\n",
        "def is_panagram(str):\n",
        "  alphabet = \"abcdefghijklmnopqrstuvwxyz\"\n",
        "  for char in alphabet:\n",
        "    if char not in str.lower():\n",
        "      return False\n",
        "\n",
        "  return True    \n",
        "\n",
        "string = 'the quick brown fox jumps over the lazy dog'\n",
        "if(is_panagram(string) == True):\n",
        "  print(\"Yes\")\n",
        "else:\n",
        "  print(\"No\")  \n"
      ],
      "metadata": {
        "colab": {
          "base_uri": "https://localhost:8080/"
        },
        "id": "4_qpGyrXUUrX",
        "outputId": "7a990187-31e7-4e58-a8cd-566381fe42d4"
      },
      "execution_count": null,
      "outputs": [
        {
          "output_type": "stream",
          "name": "stdout",
          "text": [
            "Yes\n"
          ]
        }
      ]
    },
    {
      "cell_type": "code",
      "source": [
        "def sort_words(sentence):\n",
        "  words = sentence.split(\"-\")\n",
        "  words.sort()\n",
        "  return\"-\".join(words)\n",
        "\n",
        "sentence= (input(\"Enter a sentence which is hyphen separated:\"))\n",
        "sorted_sentence=sort_words(sentence)\n",
        "print(\"Sorted sentence\", sorted_sentence)"
      ],
      "metadata": {
        "colab": {
          "base_uri": "https://localhost:8080/"
        },
        "id": "ROwuF63_WePA",
        "outputId": "5d322fc7-1929-4070-a601-d13c32cfdc69"
      },
      "execution_count": 6,
      "outputs": [
        {
          "output_type": "stream",
          "name": "stdout",
          "text": [
            "Enter a sentence which is hyphen separated:my-name-is-archie\n",
            "Sorted sentence archie-is-my-name\n"
          ]
        }
      ]
    },
    {
      "cell_type": "code",
      "source": [
        "n = input(\"Enter a string which is hyphen separted:\")\n",
        "l=n.split('-')\n",
        "l.sort()\n",
        "print('-'.join(l))"
      ],
      "metadata": {
        "colab": {
          "base_uri": "https://localhost:8080/"
        },
        "id": "nbMZAohzBp8G",
        "outputId": "9a960fe0-1b76-4102-c37b-599f6e661d78"
      },
      "execution_count": 7,
      "outputs": [
        {
          "output_type": "stream",
          "name": "stdout",
          "text": [
            "Enter a string which is hyphen separted:hello-to-all\n",
            "all-hello-to\n"
          ]
        }
      ]
    },
    {
      "cell_type": "code",
      "source": [
        "def student_data(student_id, student_name =None,student_class =None):\n",
        "  print(\"Student ID :\",student_id)\n",
        "  if student_name is not None and student_class is not None:\n",
        "    print(\"Student Name:\", student_name)\n",
        "    print(\"Student Class:\", student_class)\n",
        "\n",
        "a = (input(\"Enter data:\"))\n",
        "print(student_data(a))"
      ],
      "metadata": {
        "colab": {
          "base_uri": "https://localhost:8080/"
        },
        "id": "B1LeJPDIYjQi",
        "outputId": "959b3366-754b-48a9-f0b5-5b2c2466db31"
      },
      "execution_count": null,
      "outputs": [
        {
          "output_type": "stream",
          "name": "stdout",
          "text": [
            "Enter data:8,hi,7\n",
            "Student ID : 8,hi,7\n",
            "None\n"
          ]
        }
      ]
    },
    {
      "cell_type": "code",
      "source": [
        "class student:\n",
        "  pass\n",
        "\n",
        "class marks:\n",
        "  pass\n",
        "\n",
        "student_1= student()  \n",
        "student_2= student()\n",
        "marks_1 = marks()\n",
        "marks_2 = marks()\n",
        "\n",
        "print(isinstance(student_1, student))\n",
        "print(isinstance(student_2, student))\n",
        "print(isinstance(marks_1, marks))\n",
        "print(isinstance(marks_2, marks))\n",
        " \n",
        "print(issubclass(student,object))\n",
        "print(issubclass(student,object)) "
      ],
      "metadata": {
        "colab": {
          "base_uri": "https://localhost:8080/"
        },
        "id": "kceIA7mxbXmo",
        "outputId": "34eca7a4-56da-42f6-bc6c-67c9be6b58e9"
      },
      "execution_count": null,
      "outputs": [
        {
          "output_type": "stream",
          "name": "stdout",
          "text": [
            "True\n",
            "True\n",
            "True\n",
            "True\n",
            "True\n",
            "True\n"
          ]
        }
      ]
    },
    {
      "cell_type": "code",
      "source": [
        "class SumToZero:\n",
        "  def _init_(self,arr):\n",
        "    self.arr = arr\n",
        "\n",
        "  def find_triplets(self):\n",
        "    triplets=[]\n",
        "    self.arr.sort()\n",
        "    for i in range (len(self.arr)-2): \n",
        "      if i>0 and self.arr[i]==self.arr[i-1]:\n",
        "        continue\n",
        "      l= i+1\n",
        "      r= len(self.arr)-1\n",
        "      while l<r:\n",
        "        total = self.arr[i] + self.arr[l] + self.arr[r]\n",
        "        if total ==0:\n",
        "          triplets.append([self.arr[i], self.arr[l], self.arr[r]])\n",
        "          l+=1\n",
        "          r-=1\n",
        "          while l<r and self.arr[l] == self.arr[l-1]:\n",
        "            l+=1\n",
        "          while l<r and self.arr[1] == self.arr[r+1]:\n",
        "            r-=1\n",
        "        elif total <0:\n",
        "          l+=1\n",
        "        else:\n",
        "          r -=1\n",
        "      return triplets            "
      ],
      "metadata": {
        "id": "U7AAh3Fwet0v"
      },
      "execution_count": 10,
      "outputs": []
    },
    {
      "cell_type": "code",
      "source": [
        "class Parentheses:\n",
        "  def _init_(self,string):\n",
        "    self.string =string\n",
        "    self.stack =[]\n",
        "\n",
        "  def is_valid(self):\n",
        "    for char in self.string:\n",
        "      if char in\"({[\":\n",
        "        self.stack.append(char)\n",
        "      elif char in \"]})\":\n",
        "        if not self.stack:\n",
        "          return False\n",
        "        if char ==\")\" and self.stack[-1] != \"(\":\n",
        "          return False\n",
        "        if char ==\"}\" and self.stack[-1] != \"{\":\n",
        "          return False\n",
        "        if char ==\"]\" and self.stack[-1] != \"[\":\n",
        "          return False\n",
        "        self.stack.pop()\n",
        "    if not self.stack:\n",
        "      return True\n",
        "    else:\n",
        "      return False\n",
        "\n",
        "string=input(\"Enter a string of parenthesis\")\n",
        "p = Parentheses(string)\n",
        "print(p.is_valid())          \n",
        "\n"
      ],
      "metadata": {
        "id": "tyfgZAoOgN9h"
      },
      "execution_count": null,
      "outputs": []
    }
  ]
}